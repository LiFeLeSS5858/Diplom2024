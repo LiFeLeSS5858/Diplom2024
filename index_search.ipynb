{
  "nbformat": 4,
  "nbformat_minor": 0,
  "metadata": {
    "colab": {
      "provenance": [],
      "mount_file_id": "1L86gk0zIPTkNaNP9pV53A31TvjZlDOBq",
      "authorship_tag": "ABX9TyP2aI07u6iF4OO/0ViNx/iX",
      "include_colab_link": true
    },
    "kernelspec": {
      "name": "python3",
      "display_name": "Python 3"
    },
    "language_info": {
      "name": "python"
    }
  },
  "cells": [
    {
      "cell_type": "markdown",
      "metadata": {
        "id": "view-in-github",
        "colab_type": "text"
      },
      "source": [
        "<a href=\"https://colab.research.google.com/github/LiFeLeSS5858/Diplom2024/blob/main/index_search.ipynb\" target=\"_parent\"><img src=\"https://colab.research.google.com/assets/colab-badge.svg\" alt=\"Open In Colab\"/></a>"
      ]
    },
    {
      "cell_type": "code",
      "source": [
        "pip install geopy"
      ],
      "metadata": {
        "colab": {
          "base_uri": "https://localhost:8080/"
        },
        "id": "0nMCnWunCkYF",
        "outputId": "a563eac6-4453-469f-de97-faff6d271c81"
      },
      "execution_count": null,
      "outputs": [
        {
          "output_type": "stream",
          "name": "stdout",
          "text": [
            "Looking in indexes: https://pypi.org/simple, https://us-python.pkg.dev/colab-wheels/public/simple/\n",
            "Requirement already satisfied: geopy in /usr/local/lib/python3.10/dist-packages (2.3.0)\n",
            "Requirement already satisfied: geographiclib<3,>=1.52 in /usr/local/lib/python3.10/dist-packages (from geopy) (2.0)\n"
          ]
        }
      ]
    },
    {
      "cell_type": "code",
      "execution_count": null,
      "metadata": {
        "colab": {
          "base_uri": "https://localhost:8080/"
        },
        "id": "pZqHG-6IzCsw",
        "outputId": "6487eda5-235c-432f-b72c-17020a0cff31"
      },
      "outputs": [
        {
          "output_type": "stream",
          "name": "stdout",
          "text": [
            "Drive already mounted at /content/drive; to attempt to forcibly remount, call drive.mount(\"/content/drive\", force_remount=True).\n"
          ]
        }
      ],
      "source": [
        "import pandas as pd\n",
        "from google.colab import drive\n",
        "drive.mount('/content/drive')"
      ]
    },
    {
      "cell_type": "code",
      "source": [
        "file = '/content/drive/MyDrive/Diplom/index2017.xlsx'\n",
        "xl = pd.ExcelFile(file)"
      ],
      "metadata": {
        "id": "31Hmt6-G0q5i"
      },
      "execution_count": null,
      "outputs": []
    },
    {
      "cell_type": "code",
      "source": [
        "print(xl.sheet_names)"
      ],
      "metadata": {
        "colab": {
          "base_uri": "https://localhost:8080/"
        },
        "id": "tC05_gh_06QP",
        "outputId": "35a7ac49-43a3-4a2b-a85c-e6d320eac5b0"
      },
      "execution_count": null,
      "outputs": [
        {
          "output_type": "stream",
          "name": "stdout",
          "text": [
            "['Sheet1']\n"
          ]
        }
      ]
    },
    {
      "cell_type": "code",
      "source": [
        "df1= xl.parse('Sheet1')"
      ],
      "metadata": {
        "id": "ZgsXGvzh1A4_"
      },
      "execution_count": null,
      "outputs": []
    },
    {
      "cell_type": "code",
      "source": [
        "file = '/content/drive/MyDrive/Diplom/index.xlsx'\n",
        "xl2 = pd.ExcelFile(file)"
      ],
      "metadata": {
        "id": "vNkPvCJ6HKFB"
      },
      "execution_count": null,
      "outputs": []
    },
    {
      "cell_type": "code",
      "source": [
        "print(xl2.sheet_names)"
      ],
      "metadata": {
        "colab": {
          "base_uri": "https://localhost:8080/"
        },
        "id": "PeXCSFMhHRFN",
        "outputId": "fe8ca8f3-e042-4aa7-86c9-fe3276831131"
      },
      "execution_count": null,
      "outputs": [
        {
          "output_type": "stream",
          "name": "stdout",
          "text": [
            "['Аркуш1']\n"
          ]
        }
      ]
    },
    {
      "cell_type": "code",
      "source": [
        "df2= xl2.parse('Аркуш1')"
      ],
      "metadata": {
        "id": "qG10tUVFHSQP"
      },
      "execution_count": null,
      "outputs": []
    },
    {
      "cell_type": "code",
      "source": [
        "df2.iloc[150,4]"
      ],
      "metadata": {
        "colab": {
          "base_uri": "https://localhost:8080/",
          "height": 35
        },
        "id": "RdRkkiSqK2SN",
        "outputId": "db2f0625-489e-410f-9ed6-2a17f020c725"
      },
      "execution_count": null,
      "outputs": [
        {
          "output_type": "execute_result",
          "data": {
            "text/plain": [
              "'МОСКВА'"
            ],
            "application/vnd.google.colaboratory.intrinsic+json": {
              "type": "string"
            }
          },
          "metadata": {},
          "execution_count": 24
        }
      ]
    },
    {
      "cell_type": "code",
      "source": [
        "for i in range(len(df1)):\n",
        "  for j in range(len(df2)):\n",
        "    if df1.iloc[i,18]==df2.iloc[j,0]:\n",
        "      df1.iloc[i,20]=df2.iloc[j,4]\n",
        "      df1.iloc[i,21]=df2.iloc[j,7]\n",
        "      break"
      ],
      "metadata": {
        "id": "alq--_EDHaRM"
      },
      "execution_count": null,
      "outputs": []
    },
    {
      "cell_type": "code",
      "source": [
        "df1"
      ],
      "metadata": {
        "colab": {
          "base_uri": "https://localhost:8080/",
          "height": 800
        },
        "id": "tkDTtkU4OdzD",
        "outputId": "43b35b36-98c0-4cac-9a13-8b1a92787a43"
      },
      "execution_count": null,
      "outputs": [
        {
          "output_type": "execute_result",
          "data": {
            "text/plain": [
              "      ГОД         ID                                                Н_1  \\\n",
              "0    2017     2017_4                                     АВИАСТРОЕНИЕ     \n",
              "1    2017     2017_5                   ПРИКЛАДНАЯ ИНФОРМАТИКА_ЦЕЛЕВОЙ     \n",
              "2    2017     2017_6                                       КИТЭС_ПТРС     \n",
              "3    2017     2017_9             ИНФОРМАТИКА И ВЫЧИСЛИТЕЛЬНАЯ ТЕХНИКА     \n",
              "4    2017    2017_10             ИНФОРМАТИКА И ВЫЧИСЛИТЕЛЬНАЯ ТЕХНИКА     \n",
              "..    ...        ...                                                ...   \n",
              "652  2017   2017_396                                СОЦИАЛЬНАЯ РАБОТА     \n",
              "653  2017   2017_482                                СОЦИОЛОГИЯ_ОПЛАТА     \n",
              "654  2017   2017_394                                СОЦИАЛЬНАЯ РАБОТА     \n",
              "655  2017   2017_387  ГОСУДАРСТВЕННОЕ И МУНИЦИПАЛЬНОЕ УПРАВЛЕНИЕ_ОПЛ...   \n",
              "656  2017  2017_1187                                СОЦИАЛЬНАЯ РАБОТА     \n",
              "\n",
              "                                                   Н_2  \\\n",
              "0                        ЯДЕРНЫЕ ФИЗИКА И ТЕХНОЛОГИИ     \n",
              "1               ИНФОРМАТИКА И ВЫЧИСЛИТЕЛЬНАЯ ТЕХНИКА     \n",
              "2                  ФУНД.ИНФОРМАТИКА И ИНФ.ТЕХНОЛОГИИ     \n",
              "3                              ПРОГРАММНАЯ ИНЖЕНЕРИЯ     \n",
              "4                ИНФОРМАЦИОННЫЕ СИСТЕМЫ И ТЕХНОЛОГИИ     \n",
              "..                                                 ...   \n",
              "652                             ЮРИСПРУДЕНЦИЯ_ОПЛАТА     \n",
              "653  ГОСУДАРСТВЕННОЕ И МУНИЦИПАЛЬНОЕ УПРАВЛЕНИЕ_ОПЛ...   \n",
              "654                                                NaN   \n",
              "655                                                NaN   \n",
              "656                                       СОЦИОЛОГИЯ     \n",
              "\n",
              "                                             Н_3  \\\n",
              "0          ИНФОРМАЦИОННЫЕ СИСТЕМЫ И ТЕХНОЛОГИИ     \n",
              "1          ИНФОРМАЦИОННЫЕ СИСТЕМЫ И ТЕХНОЛОГИИ     \n",
              "2    АВТОМАТИЗАЦИЯ ТЕХ.ПРОЦЕССОВ И ПРОИЗВОДСТВ     \n",
              "3                       ПРИКЛАДНАЯ ИНФОРМАТИКА     \n",
              "4                ПРОГРАММНАЯ ИНЖЕНЕРИЯ_ЦЕЛЕВОЙ     \n",
              "..                                           ...   \n",
              "652                                          NaN   \n",
              "653                                          NaN   \n",
              "654                                          NaN   \n",
              "655                                          NaN   \n",
              "656                                          NaN   \n",
              "\n",
              "                          ПОДЛИННИК  СУММА ЕГЭ  РУССКИЙ ЯЗЫК  МАТЕМАТИКА  \\\n",
              "0                               NaN      158.0            71          45   \n",
              "1    ПРИКЛАДНАЯ ИНФОРМАТИКА_ЦЕЛЕВОЙ      174.0            73          39   \n",
              "2                        КИТЭС_ПТРС      145.0            45          45   \n",
              "3                               NaN      182.0            57          68   \n",
              "4     ПРОГРАММНАЯ ИНЖЕНЕРИЯ_ЦЕЛЕВОЙ      174.0            73          50   \n",
              "..                              ...        ...           ...         ...   \n",
              "652                             NaN        NaN            76           0   \n",
              "653                             NaN        NaN            70          27   \n",
              "654                             NaN        NaN            48           0   \n",
              "655                             NaN        NaN            72          68   \n",
              "656                             NaN        NaN             0           0   \n",
              "\n",
              "     ГЕОГРАФИЯ  ...  ХИМИЯ  ФИЗИКА  ФРАНЦУЗСКИЙ ЯЗЫК  ИКТ  ОБЩЕЖИТИЕ  \\\n",
              "0            0  ...      0      42                 0   42        НЕТ   \n",
              "1            0  ...      0       0                 0   62        НЕТ   \n",
              "2            0  ...      0       0                 0   55         ДА   \n",
              "3            0  ...      0       0                 0   57        НЕТ   \n",
              "4            0  ...      0       0                 0   51        НЕТ   \n",
              "..         ...  ...    ...     ...               ...  ...        ...   \n",
              "652          0  ...      0       0                 0    0        НЕТ   \n",
              "653          0  ...      0       0                 0    0        НЕТ   \n",
              "654          0  ...      0       0                 0    0         ДА   \n",
              "655          0  ...      0       0                 0    0        НЕТ   \n",
              "656          0  ...      0       0                 0    0         ДА   \n",
              "\n",
              "       ИНДЕКС  СТРАНА              ОБЛАСТЬ             ГОРОД  \\\n",
              "0    141981.0  РОССИЯ   МОСКОВСКАЯ ОБЛАСТЬ             ДУБНА   \n",
              "1    141960.0  РОССИЯ   МОСКОВСКАЯ ОБЛАСТЬ            ТАЛДОМ   \n",
              "2    682800.0  РОССИЯ     ХАБАРОВСКИЙ КРАЙ  СОВЕТСКАЯ ГАВАНЬ   \n",
              "3    171504.0  РОССИЯ     ТВЕРСКАЯ ОБЛАСТЬ             КИМРЫ   \n",
              "4    141981.0  РОССИЯ   МОСКОВСКАЯ ОБЛАСТЬ             ДУБНА   \n",
              "..        ...     ...                  ...               ...   \n",
              "652  141960.0  РОССИЯ   МОСКОВСКАЯ ОБЛАСТЬ            ТАЛДОМ   \n",
              "653  141986.0  РОССИЯ   МОСКОВСКАЯ ОБЛАСТЬ             ДУБНА   \n",
              "654  393274.0  РОССИЯ   ТАМБОВСКАЯ ОБЛАСТЬ         ПОДОСКЛЯЙ   \n",
              "655  141980.0  РОССИЯ   МОСКОВСКАЯ ОБЛАСТЬ             ДУБНА   \n",
              "656  431030.0  РОССИЯ  МОРДОВИЯ РЕСПУБЛИКА          ТОРБЕЕВО   \n",
              "\n",
              "                   КООРДИНАТЫ  \n",
              "0    [56.7362705, 37.1623696]  \n",
              "1      [56.730941, 37.528016]  \n",
              "2    [48.9663026, 140.284958]  \n",
              "3    [56.8734395, 37.3556968]  \n",
              "4    [56.7362705, 37.1623696]  \n",
              "..                        ...  \n",
              "652    [56.730941, 37.528016]  \n",
              "653  [56.7362705, 37.1623696]  \n",
              "654  [52.5844299, 41.7018875]  \n",
              "655  [56.7362705, 37.1623696]  \n",
              "656    [54.074532, 43.245144]  \n",
              "\n",
              "[657 rows x 23 columns]"
            ],
            "text/html": [
              "\n",
              "  <div id=\"df-f3454800-707a-4eaa-9b14-760279361d31\">\n",
              "    <div class=\"colab-df-container\">\n",
              "      <div>\n",
              "<style scoped>\n",
              "    .dataframe tbody tr th:only-of-type {\n",
              "        vertical-align: middle;\n",
              "    }\n",
              "\n",
              "    .dataframe tbody tr th {\n",
              "        vertical-align: top;\n",
              "    }\n",
              "\n",
              "    .dataframe thead th {\n",
              "        text-align: right;\n",
              "    }\n",
              "</style>\n",
              "<table border=\"1\" class=\"dataframe\">\n",
              "  <thead>\n",
              "    <tr style=\"text-align: right;\">\n",
              "      <th></th>\n",
              "      <th>ГОД</th>\n",
              "      <th>ID</th>\n",
              "      <th>Н_1</th>\n",
              "      <th>Н_2</th>\n",
              "      <th>Н_3</th>\n",
              "      <th>ПОДЛИННИК</th>\n",
              "      <th>СУММА ЕГЭ</th>\n",
              "      <th>РУССКИЙ ЯЗЫК</th>\n",
              "      <th>МАТЕМАТИКА</th>\n",
              "      <th>ГЕОГРАФИЯ</th>\n",
              "      <th>...</th>\n",
              "      <th>ХИМИЯ</th>\n",
              "      <th>ФИЗИКА</th>\n",
              "      <th>ФРАНЦУЗСКИЙ ЯЗЫК</th>\n",
              "      <th>ИКТ</th>\n",
              "      <th>ОБЩЕЖИТИЕ</th>\n",
              "      <th>ИНДЕКС</th>\n",
              "      <th>СТРАНА</th>\n",
              "      <th>ОБЛАСТЬ</th>\n",
              "      <th>ГОРОД</th>\n",
              "      <th>КООРДИНАТЫ</th>\n",
              "    </tr>\n",
              "  </thead>\n",
              "  <tbody>\n",
              "    <tr>\n",
              "      <th>0</th>\n",
              "      <td>2017</td>\n",
              "      <td>2017_4</td>\n",
              "      <td>АВИАСТРОЕНИЕ</td>\n",
              "      <td>ЯДЕРНЫЕ ФИЗИКА И ТЕХНОЛОГИИ</td>\n",
              "      <td>ИНФОРМАЦИОННЫЕ СИСТЕМЫ И ТЕХНОЛОГИИ</td>\n",
              "      <td>NaN</td>\n",
              "      <td>158.0</td>\n",
              "      <td>71</td>\n",
              "      <td>45</td>\n",
              "      <td>0</td>\n",
              "      <td>...</td>\n",
              "      <td>0</td>\n",
              "      <td>42</td>\n",
              "      <td>0</td>\n",
              "      <td>42</td>\n",
              "      <td>НЕТ</td>\n",
              "      <td>141981.0</td>\n",
              "      <td>РОССИЯ</td>\n",
              "      <td>МОСКОВСКАЯ ОБЛАСТЬ</td>\n",
              "      <td>ДУБНА</td>\n",
              "      <td>[56.7362705, 37.1623696]</td>\n",
              "    </tr>\n",
              "    <tr>\n",
              "      <th>1</th>\n",
              "      <td>2017</td>\n",
              "      <td>2017_5</td>\n",
              "      <td>ПРИКЛАДНАЯ ИНФОРМАТИКА_ЦЕЛЕВОЙ</td>\n",
              "      <td>ИНФОРМАТИКА И ВЫЧИСЛИТЕЛЬНАЯ ТЕХНИКА</td>\n",
              "      <td>ИНФОРМАЦИОННЫЕ СИСТЕМЫ И ТЕХНОЛОГИИ</td>\n",
              "      <td>ПРИКЛАДНАЯ ИНФОРМАТИКА_ЦЕЛЕВОЙ</td>\n",
              "      <td>174.0</td>\n",
              "      <td>73</td>\n",
              "      <td>39</td>\n",
              "      <td>0</td>\n",
              "      <td>...</td>\n",
              "      <td>0</td>\n",
              "      <td>0</td>\n",
              "      <td>0</td>\n",
              "      <td>62</td>\n",
              "      <td>НЕТ</td>\n",
              "      <td>141960.0</td>\n",
              "      <td>РОССИЯ</td>\n",
              "      <td>МОСКОВСКАЯ ОБЛАСТЬ</td>\n",
              "      <td>ТАЛДОМ</td>\n",
              "      <td>[56.730941, 37.528016]</td>\n",
              "    </tr>\n",
              "    <tr>\n",
              "      <th>2</th>\n",
              "      <td>2017</td>\n",
              "      <td>2017_6</td>\n",
              "      <td>КИТЭС_ПТРС</td>\n",
              "      <td>ФУНД.ИНФОРМАТИКА И ИНФ.ТЕХНОЛОГИИ</td>\n",
              "      <td>АВТОМАТИЗАЦИЯ ТЕХ.ПРОЦЕССОВ И ПРОИЗВОДСТВ</td>\n",
              "      <td>КИТЭС_ПТРС</td>\n",
              "      <td>145.0</td>\n",
              "      <td>45</td>\n",
              "      <td>45</td>\n",
              "      <td>0</td>\n",
              "      <td>...</td>\n",
              "      <td>0</td>\n",
              "      <td>0</td>\n",
              "      <td>0</td>\n",
              "      <td>55</td>\n",
              "      <td>ДА</td>\n",
              "      <td>682800.0</td>\n",
              "      <td>РОССИЯ</td>\n",
              "      <td>ХАБАРОВСКИЙ КРАЙ</td>\n",
              "      <td>СОВЕТСКАЯ ГАВАНЬ</td>\n",
              "      <td>[48.9663026, 140.284958]</td>\n",
              "    </tr>\n",
              "    <tr>\n",
              "      <th>3</th>\n",
              "      <td>2017</td>\n",
              "      <td>2017_9</td>\n",
              "      <td>ИНФОРМАТИКА И ВЫЧИСЛИТЕЛЬНАЯ ТЕХНИКА</td>\n",
              "      <td>ПРОГРАММНАЯ ИНЖЕНЕРИЯ</td>\n",
              "      <td>ПРИКЛАДНАЯ ИНФОРМАТИКА</td>\n",
              "      <td>NaN</td>\n",
              "      <td>182.0</td>\n",
              "      <td>57</td>\n",
              "      <td>68</td>\n",
              "      <td>0</td>\n",
              "      <td>...</td>\n",
              "      <td>0</td>\n",
              "      <td>0</td>\n",
              "      <td>0</td>\n",
              "      <td>57</td>\n",
              "      <td>НЕТ</td>\n",
              "      <td>171504.0</td>\n",
              "      <td>РОССИЯ</td>\n",
              "      <td>ТВЕРСКАЯ ОБЛАСТЬ</td>\n",
              "      <td>КИМРЫ</td>\n",
              "      <td>[56.8734395, 37.3556968]</td>\n",
              "    </tr>\n",
              "    <tr>\n",
              "      <th>4</th>\n",
              "      <td>2017</td>\n",
              "      <td>2017_10</td>\n",
              "      <td>ИНФОРМАТИКА И ВЫЧИСЛИТЕЛЬНАЯ ТЕХНИКА</td>\n",
              "      <td>ИНФОРМАЦИОННЫЕ СИСТЕМЫ И ТЕХНОЛОГИИ</td>\n",
              "      <td>ПРОГРАММНАЯ ИНЖЕНЕРИЯ_ЦЕЛЕВОЙ</td>\n",
              "      <td>ПРОГРАММНАЯ ИНЖЕНЕРИЯ_ЦЕЛЕВОЙ</td>\n",
              "      <td>174.0</td>\n",
              "      <td>73</td>\n",
              "      <td>50</td>\n",
              "      <td>0</td>\n",
              "      <td>...</td>\n",
              "      <td>0</td>\n",
              "      <td>0</td>\n",
              "      <td>0</td>\n",
              "      <td>51</td>\n",
              "      <td>НЕТ</td>\n",
              "      <td>141981.0</td>\n",
              "      <td>РОССИЯ</td>\n",
              "      <td>МОСКОВСКАЯ ОБЛАСТЬ</td>\n",
              "      <td>ДУБНА</td>\n",
              "      <td>[56.7362705, 37.1623696]</td>\n",
              "    </tr>\n",
              "    <tr>\n",
              "      <th>...</th>\n",
              "      <td>...</td>\n",
              "      <td>...</td>\n",
              "      <td>...</td>\n",
              "      <td>...</td>\n",
              "      <td>...</td>\n",
              "      <td>...</td>\n",
              "      <td>...</td>\n",
              "      <td>...</td>\n",
              "      <td>...</td>\n",
              "      <td>...</td>\n",
              "      <td>...</td>\n",
              "      <td>...</td>\n",
              "      <td>...</td>\n",
              "      <td>...</td>\n",
              "      <td>...</td>\n",
              "      <td>...</td>\n",
              "      <td>...</td>\n",
              "      <td>...</td>\n",
              "      <td>...</td>\n",
              "      <td>...</td>\n",
              "      <td>...</td>\n",
              "    </tr>\n",
              "    <tr>\n",
              "      <th>652</th>\n",
              "      <td>2017</td>\n",
              "      <td>2017_396</td>\n",
              "      <td>СОЦИАЛЬНАЯ РАБОТА</td>\n",
              "      <td>ЮРИСПРУДЕНЦИЯ_ОПЛАТА</td>\n",
              "      <td>NaN</td>\n",
              "      <td>NaN</td>\n",
              "      <td>NaN</td>\n",
              "      <td>76</td>\n",
              "      <td>0</td>\n",
              "      <td>0</td>\n",
              "      <td>...</td>\n",
              "      <td>0</td>\n",
              "      <td>0</td>\n",
              "      <td>0</td>\n",
              "      <td>0</td>\n",
              "      <td>НЕТ</td>\n",
              "      <td>141960.0</td>\n",
              "      <td>РОССИЯ</td>\n",
              "      <td>МОСКОВСКАЯ ОБЛАСТЬ</td>\n",
              "      <td>ТАЛДОМ</td>\n",
              "      <td>[56.730941, 37.528016]</td>\n",
              "    </tr>\n",
              "    <tr>\n",
              "      <th>653</th>\n",
              "      <td>2017</td>\n",
              "      <td>2017_482</td>\n",
              "      <td>СОЦИОЛОГИЯ_ОПЛАТА</td>\n",
              "      <td>ГОСУДАРСТВЕННОЕ И МУНИЦИПАЛЬНОЕ УПРАВЛЕНИЕ_ОПЛ...</td>\n",
              "      <td>NaN</td>\n",
              "      <td>NaN</td>\n",
              "      <td>NaN</td>\n",
              "      <td>70</td>\n",
              "      <td>27</td>\n",
              "      <td>0</td>\n",
              "      <td>...</td>\n",
              "      <td>0</td>\n",
              "      <td>0</td>\n",
              "      <td>0</td>\n",
              "      <td>0</td>\n",
              "      <td>НЕТ</td>\n",
              "      <td>141986.0</td>\n",
              "      <td>РОССИЯ</td>\n",
              "      <td>МОСКОВСКАЯ ОБЛАСТЬ</td>\n",
              "      <td>ДУБНА</td>\n",
              "      <td>[56.7362705, 37.1623696]</td>\n",
              "    </tr>\n",
              "    <tr>\n",
              "      <th>654</th>\n",
              "      <td>2017</td>\n",
              "      <td>2017_394</td>\n",
              "      <td>СОЦИАЛЬНАЯ РАБОТА</td>\n",
              "      <td>NaN</td>\n",
              "      <td>NaN</td>\n",
              "      <td>NaN</td>\n",
              "      <td>NaN</td>\n",
              "      <td>48</td>\n",
              "      <td>0</td>\n",
              "      <td>0</td>\n",
              "      <td>...</td>\n",
              "      <td>0</td>\n",
              "      <td>0</td>\n",
              "      <td>0</td>\n",
              "      <td>0</td>\n",
              "      <td>ДА</td>\n",
              "      <td>393274.0</td>\n",
              "      <td>РОССИЯ</td>\n",
              "      <td>ТАМБОВСКАЯ ОБЛАСТЬ</td>\n",
              "      <td>ПОДОСКЛЯЙ</td>\n",
              "      <td>[52.5844299, 41.7018875]</td>\n",
              "    </tr>\n",
              "    <tr>\n",
              "      <th>655</th>\n",
              "      <td>2017</td>\n",
              "      <td>2017_387</td>\n",
              "      <td>ГОСУДАРСТВЕННОЕ И МУНИЦИПАЛЬНОЕ УПРАВЛЕНИЕ_ОПЛ...</td>\n",
              "      <td>NaN</td>\n",
              "      <td>NaN</td>\n",
              "      <td>NaN</td>\n",
              "      <td>NaN</td>\n",
              "      <td>72</td>\n",
              "      <td>68</td>\n",
              "      <td>0</td>\n",
              "      <td>...</td>\n",
              "      <td>0</td>\n",
              "      <td>0</td>\n",
              "      <td>0</td>\n",
              "      <td>0</td>\n",
              "      <td>НЕТ</td>\n",
              "      <td>141980.0</td>\n",
              "      <td>РОССИЯ</td>\n",
              "      <td>МОСКОВСКАЯ ОБЛАСТЬ</td>\n",
              "      <td>ДУБНА</td>\n",
              "      <td>[56.7362705, 37.1623696]</td>\n",
              "    </tr>\n",
              "    <tr>\n",
              "      <th>656</th>\n",
              "      <td>2017</td>\n",
              "      <td>2017_1187</td>\n",
              "      <td>СОЦИАЛЬНАЯ РАБОТА</td>\n",
              "      <td>СОЦИОЛОГИЯ</td>\n",
              "      <td>NaN</td>\n",
              "      <td>NaN</td>\n",
              "      <td>NaN</td>\n",
              "      <td>0</td>\n",
              "      <td>0</td>\n",
              "      <td>0</td>\n",
              "      <td>...</td>\n",
              "      <td>0</td>\n",
              "      <td>0</td>\n",
              "      <td>0</td>\n",
              "      <td>0</td>\n",
              "      <td>ДА</td>\n",
              "      <td>431030.0</td>\n",
              "      <td>РОССИЯ</td>\n",
              "      <td>МОРДОВИЯ РЕСПУБЛИКА</td>\n",
              "      <td>ТОРБЕЕВО</td>\n",
              "      <td>[54.074532, 43.245144]</td>\n",
              "    </tr>\n",
              "  </tbody>\n",
              "</table>\n",
              "<p>657 rows × 23 columns</p>\n",
              "</div>\n",
              "      <button class=\"colab-df-convert\" onclick=\"convertToInteractive('df-f3454800-707a-4eaa-9b14-760279361d31')\"\n",
              "              title=\"Convert this dataframe to an interactive table.\"\n",
              "              style=\"display:none;\">\n",
              "        \n",
              "  <svg xmlns=\"http://www.w3.org/2000/svg\" height=\"24px\"viewBox=\"0 0 24 24\"\n",
              "       width=\"24px\">\n",
              "    <path d=\"M0 0h24v24H0V0z\" fill=\"none\"/>\n",
              "    <path d=\"M18.56 5.44l.94 2.06.94-2.06 2.06-.94-2.06-.94-.94-2.06-.94 2.06-2.06.94zm-11 1L8.5 8.5l.94-2.06 2.06-.94-2.06-.94L8.5 2.5l-.94 2.06-2.06.94zm10 10l.94 2.06.94-2.06 2.06-.94-2.06-.94-.94-2.06-.94 2.06-2.06.94z\"/><path d=\"M17.41 7.96l-1.37-1.37c-.4-.4-.92-.59-1.43-.59-.52 0-1.04.2-1.43.59L10.3 9.45l-7.72 7.72c-.78.78-.78 2.05 0 2.83L4 21.41c.39.39.9.59 1.41.59.51 0 1.02-.2 1.41-.59l7.78-7.78 2.81-2.81c.8-.78.8-2.07 0-2.86zM5.41 20L4 18.59l7.72-7.72 1.47 1.35L5.41 20z\"/>\n",
              "  </svg>\n",
              "      </button>\n",
              "      \n",
              "  <style>\n",
              "    .colab-df-container {\n",
              "      display:flex;\n",
              "      flex-wrap:wrap;\n",
              "      gap: 12px;\n",
              "    }\n",
              "\n",
              "    .colab-df-convert {\n",
              "      background-color: #E8F0FE;\n",
              "      border: none;\n",
              "      border-radius: 50%;\n",
              "      cursor: pointer;\n",
              "      display: none;\n",
              "      fill: #1967D2;\n",
              "      height: 32px;\n",
              "      padding: 0 0 0 0;\n",
              "      width: 32px;\n",
              "    }\n",
              "\n",
              "    .colab-df-convert:hover {\n",
              "      background-color: #E2EBFA;\n",
              "      box-shadow: 0px 1px 2px rgba(60, 64, 67, 0.3), 0px 1px 3px 1px rgba(60, 64, 67, 0.15);\n",
              "      fill: #174EA6;\n",
              "    }\n",
              "\n",
              "    [theme=dark] .colab-df-convert {\n",
              "      background-color: #3B4455;\n",
              "      fill: #D2E3FC;\n",
              "    }\n",
              "\n",
              "    [theme=dark] .colab-df-convert:hover {\n",
              "      background-color: #434B5C;\n",
              "      box-shadow: 0px 1px 3px 1px rgba(0, 0, 0, 0.15);\n",
              "      filter: drop-shadow(0px 1px 2px rgba(0, 0, 0, 0.3));\n",
              "      fill: #FFFFFF;\n",
              "    }\n",
              "  </style>\n",
              "\n",
              "      <script>\n",
              "        const buttonEl =\n",
              "          document.querySelector('#df-f3454800-707a-4eaa-9b14-760279361d31 button.colab-df-convert');\n",
              "        buttonEl.style.display =\n",
              "          google.colab.kernel.accessAllowed ? 'block' : 'none';\n",
              "\n",
              "        async function convertToInteractive(key) {\n",
              "          const element = document.querySelector('#df-f3454800-707a-4eaa-9b14-760279361d31');\n",
              "          const dataTable =\n",
              "            await google.colab.kernel.invokeFunction('convertToInteractive',\n",
              "                                                     [key], {});\n",
              "          if (!dataTable) return;\n",
              "\n",
              "          const docLinkHtml = 'Like what you see? Visit the ' +\n",
              "            '<a target=\"_blank\" href=https://colab.research.google.com/notebooks/data_table.ipynb>data table notebook</a>'\n",
              "            + ' to learn more about interactive tables.';\n",
              "          element.innerHTML = '';\n",
              "          dataTable['output_type'] = 'display_data';\n",
              "          await google.colab.output.renderOutput(dataTable, element);\n",
              "          const docLink = document.createElement('div');\n",
              "          docLink.innerHTML = docLinkHtml;\n",
              "          element.appendChild(docLink);\n",
              "        }\n",
              "      </script>\n",
              "    </div>\n",
              "  </div>\n",
              "  "
            ]
          },
          "metadata": {},
          "execution_count": 39
        }
      ]
    },
    {
      "cell_type": "code",
      "source": [
        "from geopy.geocoders import Nominatim\n",
        "nominatim = Nominatim(user_agent='user')\n",
        "for i in range(len(df1)):\n",
        "  place = str(df1.iloc[i,20])+\" \"+str(df1.iloc[i,21])\n",
        "  nominatim = Nominatim(user_agent='user')\n",
        "  try:\n",
        "    df1.iloc[i,22] = \"[\"+str(nominatim.geocode(place).latitude)+\", \"+str(nominatim.geocode(place).longitude)+\"]\"\n",
        "  except AttributeError:\n",
        "    df1.iloc[i,22] = str(0)"
      ],
      "metadata": {
        "id": "szcmAYsmCuak"
      },
      "execution_count": null,
      "outputs": []
    },
    {
      "cell_type": "code",
      "source": [
        "df1.to_excel (r'/content/drive/MyDrive/Diplom/index2017.xlsx')"
      ],
      "metadata": {
        "id": "naUZvoOzSqbc"
      },
      "execution_count": null,
      "outputs": []
    }
  ]
}